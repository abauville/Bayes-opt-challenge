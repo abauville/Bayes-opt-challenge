{
 "cells": [
  {
   "cell_type": "markdown",
   "id": "138e3a81-ac90-4dc7-9078-ad6402acf3d8",
   "metadata": {
    "id": "138e3a81-ac90-4dc7-9078-ad6402acf3d8"
   },
   "source": [
    "# Benchmark for bayesian optimization"
   ]
  },
  {
   "cell_type": "markdown",
   "id": "ed945dbd-18cd-414f-ac8a-95683ad432b1",
   "metadata": {
    "id": "ed945dbd-18cd-414f-ac8a-95683ad432b1"
   },
   "source": [
    "## Imports"
   ]
  },
  {
   "cell_type": "code",
   "execution_count": null,
   "id": "f1fff1d5-47e8-4b63-9fd2-e1e30168a7a8",
   "metadata": {
    "colab": {
     "base_uri": "https://localhost:8080/"
    },
    "executionInfo": {
     "elapsed": 8335,
     "status": "ok",
     "timestamp": 1650967107899,
     "user": {
      "displayName": "Arthur Bauville",
      "userId": "13412020910432312638"
     },
     "user_tz": -540
    },
    "id": "f1fff1d5-47e8-4b63-9fd2-e1e30168a7a8",
    "outputId": "40abf43e-369d-4690-d9c0-b6a217cd0982"
   },
   "outputs": [],
   "source": [
    "running_on_colab = False\n",
    "if 'google.colab' in str(get_ipython()):\n",
    "    running_on_colab = True\n",
    "    !pip install gpytorch\n",
    "    !pip install botorch\n",
    "    !git clone https://github.com/abauville/Notes_Gaussian_processes.git\n",
    "    !cp /content/Notes_Gaussian_processes/bayes_lib.py .\n",
    "\n",
    "from datetime import datetime\n",
    "from bayes_lib import run_experiment\n",
    "from botorch.test_functions.synthetic import Hartmann\n",
    "import numpy as np\n",
    "from IPython.display import clear_output"
   ]
  },
  {
   "cell_type": "markdown",
   "id": "b9569d7b-225b-4a96-ba84-eb4dd428639b",
   "metadata": {
    "executionInfo": {
     "elapsed": 11917,
     "status": "ok",
     "timestamp": 1650862791141,
     "user": {
      "displayName": "Arthur Bauville",
      "userId": "13412020910432312638"
     },
     "user_tz": -540
    },
    "id": "b9569d7b-225b-4a96-ba84-eb4dd428639b"
   },
   "source": [
    "## Define the ground truth, baseline and metric"
   ]
  },
  {
   "cell_type": "code",
   "execution_count": null,
   "id": "9d954da6-44cf-4255-9b5f-e78e17429a0a",
   "metadata": {
    "executionInfo": {
     "elapsed": 10,
     "status": "ok",
     "timestamp": 1650966470295,
     "user": {
      "displayName": "Arthur Bauville",
      "userId": "13412020910432312638"
     },
     "user_tz": -540
    },
    "id": "9d954da6-44cf-4255-9b5f-e78e17429a0a"
   },
   "outputs": [],
   "source": [
    "def gt_func(x):\n",
    "    \"\"\"Ground truth function: negative hartmann 6\n",
    "    The Bayes opt library we use aims to maximize functions by default.\n",
    "    We use the negated function to effectively minimize it, i.e. argmin(f(x)) = argmax(-f(x))\n",
    "    \"\"\"\n",
    "    hart = Hartmann()\n",
    "    return - hart.evaluate_true(x)"
   ]
  },
  {
   "cell_type": "markdown",
   "id": "874b8771-7632-450e-9f78-662bc5d591cc",
   "metadata": {
    "id": "874b8771-7632-450e-9f78-662bc5d591cc"
   },
   "source": [
    "## Run the Bayesian optimization\n",
    "\n",
    "### Initialize"
   ]
  },
  {
   "cell_type": "code",
   "execution_count": null,
   "id": "2a9239a9-3aeb-4191-9d87-96f7cf741fff",
   "metadata": {
    "executionInfo": {
     "elapsed": 9,
     "status": "ok",
     "timestamp": 1650966470296,
     "user": {
      "displayName": "Arthur Bauville",
      "userId": "13412020910432312638"
     },
     "user_tz": -540
    },
    "id": "2a9239a9-3aeb-4191-9d87-96f7cf741fff"
   },
   "outputs": [],
   "source": [
    "n_exp = 10                  # number of experiments\n",
    "n_iter = 200                # number of iterations\n",
    "print_period = 10            # results are printed every print_period iteration\n",
    "n_train_ini = 20            # number of initial training examples\n",
    "output_folder = \"/content\" if running_on_colab else \"output\""
   ]
  },
  {
   "cell_type": "markdown",
   "id": "964d08be-9c7a-44bd-91f5-415133b26afe",
   "metadata": {
    "id": "964d08be-9c7a-44bd-91f5-415133b26afe"
   },
   "source": [
    "### Optimization loop"
   ]
  },
  {
   "cell_type": "code",
   "execution_count": null,
   "id": "45a07469-1ee4-4134-8212-dba15e6bc874",
   "metadata": {
    "colab": {
     "base_uri": "https://localhost:8080/",
     "height": 1000
    },
    "executionInfo": {
     "elapsed": 397371,
     "status": "error",
     "timestamp": 1650966876775,
     "user": {
      "displayName": "Arthur Bauville",
      "userId": "13412020910432312638"
     },
     "user_tz": -540
    },
    "id": "45a07469-1ee4-4134-8212-dba15e6bc874",
    "outputId": "ddf3349c-c426-430a-e315-b71bb5687382",
    "tags": []
   },
   "outputs": [],
   "source": [
    "for i_exp in range(n_exp):\n",
    "    clear_output()\n",
    "    print(f\"Experiment {i_exp: 02d}\")\n",
    "    print( \"=============\")\n",
    "    error_gaps = run_experiment(gt_func, n_iter, n_train_ini, print_period=print_period)\n",
    "\n",
    "    # Save intermediate results\n",
    "    # ============================\n",
    "    timestamp = datetime.now().strftime(\"%Y%m%d%H%M%S\")\n",
    "    np.save(f\"{output_folder}/{timestamp}_error_gaps\", error_gaps)\n",
    "    \n",
    "    "
   ]
  }
 ],
 "metadata": {
  "accelerator": "GPU",
  "colab": {
   "collapsed_sections": [],
   "name": "04_BayesOpt_Benchmark.ipynb",
   "provenance": []
  },
  "kernelspec": {
   "display_name": "Python 3 (ipykernel)",
   "language": "python",
   "name": "python3"
  },
  "language_info": {
   "codemirror_mode": {
    "name": "ipython",
    "version": 3
   },
   "file_extension": ".py",
   "mimetype": "text/x-python",
   "name": "python",
   "nbconvert_exporter": "python",
   "pygments_lexer": "ipython3",
   "version": "3.9.7"
  }
 },
 "nbformat": 4,
 "nbformat_minor": 5
}
