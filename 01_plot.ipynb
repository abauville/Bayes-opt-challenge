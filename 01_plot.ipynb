{
 "cells": [
  {
   "cell_type": "markdown",
   "id": "957480c3-a94d-45b2-9ed6-86ce8f81e33b",
   "metadata": {
    "id": "957480c3-a94d-45b2-9ed6-86ce8f81e33b"
   },
   "source": [
    "# Plot the BayesOpt experiment results"
   ]
  },
  {
   "cell_type": "markdown",
   "id": "57ad5a77-e281-4adc-a9d7-b3196e4ef781",
   "metadata": {
    "id": "57ad5a77-e281-4adc-a9d7-b3196e4ef781"
   },
   "source": [
    "## Import"
   ]
  },
  {
   "cell_type": "code",
   "execution_count": 1,
   "id": "7f5dd817-603c-4c3c-8ff0-f618e5dfb273",
   "metadata": {
    "colab": {
     "base_uri": "https://localhost:8080/"
    },
    "executionInfo": {
     "elapsed": 22604,
     "status": "ok",
     "timestamp": 1650982381448,
     "user": {
      "displayName": "Arthur Bauville",
      "userId": "13412020910432312638"
     },
     "user_tz": -540
    },
    "id": "7f5dd817-603c-4c3c-8ff0-f618e5dfb273",
    "outputId": "d369914b-7aff-460e-bef6-a10facc72173"
   },
   "outputs": [],
   "source": [
    "running_on_colab = False\n",
    "if 'google.colab' in str(get_ipython()):\n",
    "    running_on_colab = True\n",
    "    !pip install gpytorch\n",
    "    !pip install botorch\n",
    "    !git clone https://github.com/abauville/Bayes-opt-challenge.git\n",
    "    !cp /content/Bayes-opt-challenge/bayes_lib.py .\n",
    "    \n",
    "import numpy as np\n",
    "import matplotlib.pyplot as plt\n",
    "from bayes_lib import baseline_model\n",
    "from botorch.test_functions.synthetic import Hartmann\n",
    "import os"
   ]
  },
  {
   "cell_type": "markdown",
   "id": "58601f78-dbd2-47be-a59b-772df332c467",
   "metadata": {
    "id": "58601f78-dbd2-47be-a59b-772df332c467"
   },
   "source": [
    "## Define the ground truth function"
   ]
  },
  {
   "cell_type": "code",
   "execution_count": 2,
   "id": "7fbc2a42-85a3-4e02-9486-66f8833e9f01",
   "metadata": {
    "executionInfo": {
     "elapsed": 243,
     "status": "ok",
     "timestamp": 1650982434045,
     "user": {
      "displayName": "Arthur Bauville",
      "userId": "13412020910432312638"
     },
     "user_tz": -540
    },
    "id": "7fbc2a42-85a3-4e02-9486-66f8833e9f01"
   },
   "outputs": [],
   "source": [
    "def gt_func(x):\n",
    "    \"\"\"Ground truth function: negative hartmann 6\n",
    "    The Bayes opt library we use aims to maximize functions by default.\n",
    "    We use the negated function to effectively minimize it, i.e. argmin(f(x)) = argmax(-f(x))\n",
    "    \"\"\"\n",
    "    hart = Hartmann()\n",
    "    return - hart.evaluate_true(x)"
   ]
  },
  {
   "cell_type": "markdown",
   "id": "958851ce-ac05-4bd8-870a-1d5c30711336",
   "metadata": {
    "id": "958851ce-ac05-4bd8-870a-1d5c30711336"
   },
   "source": [
    "## Define the model evaluation metric"
   ]
  },
  {
   "cell_type": "code",
   "execution_count": 3,
   "id": "8fa2d7b7-8bf2-43b7-bd5b-bddf3a276335",
   "metadata": {
    "executionInfo": {
     "elapsed": 2,
     "status": "ok",
     "timestamp": 1650982435398,
     "user": {
      "displayName": "Arthur Bauville",
      "userId": "13412020910432312638"
     },
     "user_tz": -540
    },
    "id": "8fa2d7b7-8bf2-43b7-bd5b-bddf3a276335"
   },
   "outputs": [],
   "source": [
    "def error_gap(current_best):\n",
    "    \"\"\"Returns the absolute difference between the global minimum of the hartmann 6 function\n",
    "    and the current best value\n",
    "            Error gap := |min f(x*) -  current best|\n",
    "    \"\"\"\n",
    "    hart = Hartmann()\n",
    "    return abs(current_best - (- hart.optimal_value))"
   ]
  },
  {
   "cell_type": "markdown",
   "id": "825fb802-459e-4dcd-a1a1-0034f4dbf9a1",
   "metadata": {
    "id": "825fb802-459e-4dcd-a1a1-0034f4dbf9a1"
   },
   "source": [
    "## Load model results"
   ]
  },
  {
   "cell_type": "code",
   "execution_count": 4,
   "id": "c3e3397c-23ad-41c1-a17d-d4cae1968e1a",
   "metadata": {
    "executionInfo": {
     "elapsed": 3,
     "status": "ok",
     "timestamp": 1650982437031,
     "user": {
      "displayName": "Arthur Bauville",
      "userId": "13412020910432312638"
     },
     "user_tz": -540
    },
    "id": "c3e3397c-23ad-41c1-a17d-d4cae1968e1a"
   },
   "outputs": [],
   "source": [
    "if running_on_colab:\n",
    "    output_folder = \"Bayes-opt-challenge/output\"\n",
    "else:\n",
    "    output_folder = \"output\"\n",
    "\n",
    "files = list(filter(lambda x: x[-4:]==\".npy\", os.listdir(output_folder)))\n",
    "results = []\n",
    "for file in files:\n",
    "    results.append(np.load(f\"{output_folder}/{file}\"))\n",
    "results = np.array(results)"
   ]
  },
  {
   "cell_type": "markdown",
   "id": "a1be7f35-ef64-4db7-8dfc-bed4231449d9",
   "metadata": {
    "id": "a1be7f35-ef64-4db7-8dfc-bed4231449d9"
   },
   "source": [
    "## Compute baseline results"
   ]
  },
  {
   "cell_type": "code",
   "execution_count": 5,
   "id": "aa76818b-54aa-412b-a133-ee57599289d6",
   "metadata": {
    "executionInfo": {
     "elapsed": 13672,
     "status": "ok",
     "timestamp": 1650982453348,
     "user": {
      "displayName": "Arthur Bauville",
      "userId": "13412020910432312638"
     },
     "user_tz": -540
    },
    "id": "aa76818b-54aa-412b-a133-ee57599289d6"
   },
   "outputs": [],
   "source": [
    "n_exp = results.shape[0]\n",
    "n_iter = results.shape[1]\n",
    "\n",
    "baseline_results = np.array([baseline_model(gt_func, n_iter, int(1e4)) for i in range(n_exp)])"
   ]
  },
  {
   "cell_type": "markdown",
   "id": "cc0adb1b-1ae5-429a-ad1d-a8c3d46e42a1",
   "metadata": {
    "id": "cc0adb1b-1ae5-429a-ad1d-a8c3d46e42a1"
   },
   "source": [
    "## Plot"
   ]
  },
  {
   "cell_type": "code",
   "execution_count": 6,
   "id": "8d5b6088-694c-426d-b133-ee49a116ca0f",
   "metadata": {
    "executionInfo": {
     "elapsed": 26,
     "status": "ok",
     "timestamp": 1650982453349,
     "user": {
      "displayName": "Arthur Bauville",
      "userId": "13412020910432312638"
     },
     "user_tz": -540
    },
    "id": "8d5b6088-694c-426d-b133-ee49a116ca0f"
   },
   "outputs": [],
   "source": [
    "def plot_series(X, label=''):\n",
    "    means = np.mean(X,0)\n",
    "    p_low, p_high = np.quantile(X,(.05,.95),0)\n",
    "    \n",
    "    ax.plot(means, label=label)\n",
    "    ax.fill_between(np.arange(n_iter), \n",
    "                    p_low, \n",
    "                    p_high, \n",
    "                    alpha=0.2)"
   ]
  },
  {
   "cell_type": "code",
   "execution_count": 10,
   "id": "0c2ef896-8b0a-4d24-8489-15295dd6c345",
   "metadata": {
    "colab": {
     "base_uri": "https://localhost:8080/",
     "height": 458
    },
    "executionInfo": {
     "elapsed": 954,
     "status": "ok",
     "timestamp": 1650982454279,
     "user": {
      "displayName": "Arthur Bauville",
      "userId": "13412020910432312638"
     },
     "user_tz": -540
    },
    "id": "0c2ef896-8b0a-4d24-8489-15295dd6c345",
    "outputId": "8ee2943e-27fd-41ab-f8ef-c48061bfe2ba"
   },
   "outputs": [
    {
     "data": {
      "image/png": "[encoded data removed]",
      "text/plain": [
       "<Figure size 504x504 with 1 Axes>"
      ]
     },
     "metadata": {
      "needs_background": "light"
     },
     "output_type": "display_data"
    }
   ],
   "source": [
    "fig, ax = plt.subplots(1,1,figsize=[7,7])\n",
    "plot_series(error_gap(baseline_results), label='baseline')\n",
    "plot_series(error_gap(results), label='Bayesian optimization')\n",
    "plt.ylim([0.0005,3])\n",
    "plt.xlim(0,results.shape[1])\n",
    "ax.set_yscale('log')\n",
    "plt.legend()\n",
    "plt.title(\"Hartmann 6D function minimization\")\n",
    "plt.ylabel(\"error gap\")\n",
    "plt.xlabel(\"func. evaluations\")\n",
    "plt.savefig(\"hartmann_min.svg\", facecolor='white')"
   ]
  },
  {
   "cell_type": "markdown",
   "id": "d01d8870-dbb9-4773-a30c-1235b86d550c",
   "metadata": {
    "id": "d01d8870-dbb9-4773-a30c-1235b86d550c"
   },
   "source": [
    "<figcaption>Fig. 1. Comparison between Bayesian optimization (BayesOpt, orange) and a baseline model (blue). BayesOpt was run using a Gaussian process surrogate model and the expected improvement aquisition function, with 20 initial samples and one new sample aquired at each iteration. The baseline model samples 10^4 random points from a uniform distribution at each iteration. Each model was performed 20 times, and the figure shows the mean (solid line) and the 5-95 percentile region (color-filled area).'</figcaption>"
   ]
  }
 ],
 "metadata": {
  "colab": {
   "collapsed_sections": [],
   "name": "01_plot.ipynb",
   "provenance": []
  },
  "kernelspec": {
   "display_name": "Python 3 (ipykernel)",
   "language": "python",
   "name": "python3"
  },
  "language_info": {
   "codemirror_mode": {
    "name": "ipython",
    "version": 3
   },
   "file_extension": ".py",
   "mimetype": "text/x-python",
   "name": "python",
   "nbconvert_exporter": "python",
   "pygments_lexer": "ipython3",
   "version": "3.9.7"
  }
 },
 "nbformat": 4,
 "nbformat_minor": 5
}
